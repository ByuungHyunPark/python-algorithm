{
 "cells": [
  {
   "cell_type": "markdown",
   "metadata": {},
   "source": []
  },
  {
   "cell_type": "code",
   "execution_count": 66,
   "metadata": {},
   "outputs": [
    {
     "name": "stdout",
     "output_type": "stream",
     "text": [
      "100\n",
      "10 20 23 34 55 30 22 19 12 45 23 44 34 38\n",
      "jh :  380\n",
      "sm :  195\n",
      "BNP\n"
     ]
    }
   ],
   "source": [
    "money = int(input())\n",
    "sp = list(map(int, input().split())) # stock price\n",
    "\n",
    "\n",
    "#준현 : 장투로 가능한거 다 매수\n",
    "def jh(money = money, sp = sp):\n",
    "    #보유 수량\n",
    "    total = 0\n",
    "    \n",
    "    for price in sp:\n",
    "        cnt = int(money / price) # 매수 가능 수량\n",
    "        total += cnt\n",
    "        money -= cnt * price\n",
    "\n",
    "    asset = money + sp[-1] * total\n",
    "    \n",
    "    return asset\n",
    "\n",
    "\n",
    "\n",
    "#성민 : Timing\n",
    "#3가지 Rule\n",
    "def sm(money = money, sp = sp):\n",
    "    #보유 수량\n",
    "    total = 0\n",
    "    \n",
    "    #등락을 나타내는 list (0 : 보힙 또는 그대로, 1 : 상승)\n",
    "    updown_list = []\n",
    "    for idx in range(len(sp)):\n",
    "        \n",
    "        try:\n",
    "            if sp[idx-1] < sp[idx]:\n",
    "                updown_list.append(1)\n",
    "            else:\n",
    "                updown_list.append(0)\n",
    "        except:\n",
    "            updown_list.append(0)\n",
    "    #매수매도 Rule\n",
    "    for idx, price in enumerate(sp):\n",
    "        if idx <=1:\n",
    "            continue\n",
    "            \n",
    "        #3연 하락 => 전량매수\n",
    "        if updown_list[idx-2] ==  updown_list[idx-1] == updown_list[idx] == 0:\n",
    "            cnt = int(money / price)\n",
    "            total += cnt\n",
    "            money -= cnt * price\n",
    "\n",
    "        #3연 상승 => 전량매도\n",
    "        elif updown_list[idx-2] ==  updown_list[idx-1] == updown_list[idx] == 1:\n",
    "            money += total * price\n",
    "            total = 0\n",
    "         \n",
    "        else:\n",
    "            pass\n",
    "\n",
    "\n",
    "    asset = money + sp[-1] * total\n",
    "    \n",
    "    return asset\n",
    "\n",
    "jh_asset = jh(money = money, sp = sp)\n",
    "sm_asset = sm(money = money, sp = sp)\n",
    "\n",
    "\n",
    "if jh_asset > sm_asset:\n",
    "    print(\"BNP\")\n",
    "elif jh_asset < sm_asset:\n",
    "    print(\"TIMING\")\n",
    "else:\n",
    "    print(\"SAMESAME\")"
   ]
  }
 ],
 "metadata": {
  "kernelspec": {
   "display_name": "Python 3",
   "language": "python",
   "name": "python3"
  },
  "language_info": {
   "codemirror_mode": {
    "name": "ipython",
    "version": 3
   },
   "file_extension": ".py",
   "mimetype": "text/x-python",
   "name": "python",
   "nbconvert_exporter": "python",
   "pygments_lexer": "ipython3",
   "version": "3.8.5"
  }
 },
 "nbformat": 4,
 "nbformat_minor": 4
}
