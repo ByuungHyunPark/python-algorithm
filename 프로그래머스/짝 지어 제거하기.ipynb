{
 "cells": [
  {
   "cell_type": "markdown",
   "metadata": {},
   "source": [
    "https://programmers.co.kr/learn/courses/30/lessons/12973\n",
    "- __짝지어 제거하기__\n",
    "- 알파벳 2개가 붙어있는 짝을 찾아 제거해나가는 방식"
   ]
  },
  {
   "cell_type": "markdown",
   "metadata": {},
   "source": [
    "- 시간초과 문제로 풀이를 하지 못함\n",
    "- 방법적으로는 충분히 괜찮아보이지만, 더 효율적인 방법은 많이 고민했지만 해결못하였음"
   ]
  },
  {
   "cell_type": "code",
   "execution_count": 83,
   "metadata": {},
   "outputs": [
    {
     "name": "stdout",
     "output_type": "stream",
     "text": [
      "s :  ['d', 'c', 'd', 'c', 'c', 'd', 'c', 'd']\n",
      "s :  ['d', 'c', 'd', 'd', 'c', 'd']\n",
      "s :  ['d', 'c', 'c', 'd']\n",
      "s :  ['d', 'd']\n",
      "s :  []\n"
     ]
    },
    {
     "data": {
      "text/plain": [
       "1"
      ]
     },
     "execution_count": 83,
     "metadata": {},
     "output_type": "execute_result"
    }
   ],
   "source": [
    "s = 'dcdccdcd'\n",
    "\n",
    "\n",
    "def solution(s):\n",
    "    \n",
    "    s = list(s)\n",
    "    \n",
    "    # s가 홀수개이면 절대 만족할 수 없으므로 미리 처리\n",
    "    if len(s) % 2 == 1:\n",
    "        return 0\n",
    "    \n",
    "    while True:\n",
    "        print('s : ', s)\n",
    "        if len(s) == 0 :\n",
    "            return 1\n",
    "        \n",
    "        \n",
    "        for i in range(len(s)-1):\n",
    "            #겹치는것 존재한다면, 다시 while Loop\n",
    "            if s[i] == s[i+1]:\n",
    "                s.pop(i)\n",
    "                s.pop(i)\n",
    "                break\n",
    "        \n",
    "            #한개도 겹치지않는다!\n",
    "            \n",
    "            \n",
    "            #모든 for문이 돈 상황 => 중복문자열이 더이상 존재하지 안흔ㄴ다.\n",
    "            elif i == len(s)-2:\n",
    "                return 0\n",
    "            \n",
    "\n",
    "\n",
    "solution(s)"
   ]
  },
  {
   "cell_type": "markdown",
   "metadata": {},
   "source": [
    "##### 구글링을 통해 참고한 풀이\n",
    "- 전체적인 흐름은 비슷\n",
    "- stack을 활용하여 효율적인 알고리즘"
   ]
  },
  {
   "cell_type": "code",
   "execution_count": 84,
   "metadata": {},
   "outputs": [
    {
     "data": {
      "text/plain": [
       "0"
      ]
     },
     "execution_count": 84,
     "metadata": {},
     "output_type": "execute_result"
    }
   ],
   "source": [
    "s = 'dcdccdcd'\n",
    "\n",
    "def solution(s):\n",
    "    \n",
    "    stack = []\n",
    "    s = list(s)\n",
    "\n",
    "    for i in s:\n",
    "        if len(stack) == 0:\n",
    "            stack.append(i)\n",
    "        elif stack[-1] == i:\n",
    "            stack.pop(0)\n",
    "        else:\n",
    "            stack.append(i)\n",
    "            \n",
    "    if len(stack) == 0:\n",
    "        return 1\n",
    "    else:\n",
    "        return 0\n",
    "    \n",
    "    \n",
    "    \n",
    "solution(s)"
   ]
  }
 ],
 "metadata": {
  "kernelspec": {
   "display_name": "Python 3",
   "language": "python",
   "name": "python3"
  },
  "language_info": {
   "codemirror_mode": {
    "name": "ipython",
    "version": 3
   },
   "file_extension": ".py",
   "mimetype": "text/x-python",
   "name": "python",
   "nbconvert_exporter": "python",
   "pygments_lexer": "ipython3",
   "version": "3.8.5"
  }
 },
 "nbformat": 4,
 "nbformat_minor": 4
}
