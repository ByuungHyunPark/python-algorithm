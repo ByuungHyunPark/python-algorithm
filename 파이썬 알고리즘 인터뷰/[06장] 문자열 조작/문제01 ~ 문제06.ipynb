{
 "cells": [
  {
   "cell_type": "markdown",
   "metadata": {},
   "source": [
    "## [01] 유요한 팰린드롬\n",
    "'팰린트롬'이란 ? \n",
    "    - 앞뒤가 똑같은 단어자 문장으로, 뒤집어도 같은 말이 되는 단어 또는 문장을 팰린드롬(Palindrome)이라고 한다.\n",
    "    "
   ]
  },
  {
   "cell_type": "markdown",
   "metadata": {},
   "source": [
    "##### [풀이01]리스트로 변환"
   ]
  },
  {
   "cell_type": "code",
   "execution_count": 52,
   "metadata": {},
   "outputs": [],
   "source": [
    "import collections"
   ]
  },
  {
   "cell_type": "code",
   "execution_count": 1,
   "metadata": {},
   "outputs": [],
   "source": [
    "def isPalindrome(s:str) ->bool:\n",
    "    \n",
    "    strs = []\n",
    "    for char in s:\n",
    "        if char.isalnum(): #isalnum()는 영문자, 숫자 여부를 판별하는 함수\n",
    "            strs.append(char.lower())\n",
    "            \n",
    "    # 팰린드롬 여부 판별\n",
    "    while len(strs) > 1:\n",
    "        if strs.pop(0) != strs.pop():\n",
    "            return False \n",
    "\n",
    "    return True"
   ]
  },
  {
   "cell_type": "code",
   "execution_count": 2,
   "metadata": {},
   "outputs": [],
   "source": [
    "# 테스트용 팰린드롬 true 문장\n",
    "trueTest = ['a man nam a']"
   ]
  },
  {
   "cell_type": "code",
   "execution_count": 3,
   "metadata": {},
   "outputs": [
    {
     "name": "stdout",
     "output_type": "stream",
     "text": [
      "Wall time: 0 ns\n"
     ]
    },
    {
     "data": {
      "text/plain": [
       "True"
      ]
     },
     "execution_count": 3,
     "metadata": {},
     "output_type": "execute_result"
    }
   ],
   "source": [
    "%%time\n",
    "\n",
    "isPalindrome(s = trueTest)"
   ]
  },
  {
   "cell_type": "markdown",
   "metadata": {},
   "source": [
    "##### [풀이2] 데크 자료형을 이용한 최적화\n",
    "- Deque를 명시적으로 선언하면 더 속도를 높일 수 있다."
   ]
  },
  {
   "cell_type": "code",
   "execution_count": 72,
   "metadata": {},
   "outputs": [],
   "source": [
    "def isPalindrome(s: str)->bool:\n",
    "    #자료형 데크로 선언\n",
    "    strs: Deque = collections.deque()\n",
    "        \n",
    "    for char in s:\n",
    "        if char.isalnum():\n",
    "            strs.append(char.lower())\n",
    "        \n",
    "    while len(strs) > 1:\n",
    "        if strs.popleft() != strs.pop:\n",
    "            return False\n",
    "        \n",
    "    return True"
   ]
  },
  {
   "cell_type": "code",
   "execution_count": 73,
   "metadata": {},
   "outputs": [
    {
     "name": "stdout",
     "output_type": "stream",
     "text": [
      "Wall time: 0 ns\n"
     ]
    },
    {
     "data": {
      "text/plain": [
       "True"
      ]
     },
     "execution_count": 73,
     "metadata": {},
     "output_type": "execute_result"
    }
   ],
   "source": [
    "%%time\n",
    "isPalindrome(trueTest)"
   ]
  },
  {
   "cell_type": "markdown",
   "metadata": {},
   "source": [
    "##### [풀이3] 슬라이싱 사용"
   ]
  },
  {
   "cell_type": "code",
   "execution_count": 74,
   "metadata": {},
   "outputs": [],
   "source": [
    "import re\n",
    "\n",
    "def isPalindrom(s: str) -> bool:\n",
    "    s = s.lower()\n",
    "    # 정규식으로 불필요한 문자 필터링\n",
    "    s = re.sub('[a-z0-9]', '', s)\n",
    "    \n",
    "    return s == s[::-1]"
   ]
  },
  {
   "cell_type": "markdown",
   "metadata": {},
   "source": [
    "##### [풀이4] C 구현\n",
    "- C언어로 구현을 한다면 압도적으로 빠른 속도를 보일 수 있다.\n",
    "\n",
    "|풀이|방식|실행 시간|\n",
    "|--|:--|--|\n",
    "|1|리스트로 변환|304밀리초|\n",
    "|2|데크 자료형을 이용한 최적화|64밀리초|\n",
    "|3|슬라이싱 사용|36밀리초|\n",
    "|4|C 구현|4밀리초|"
   ]
  },
  {
   "cell_type": "markdown",
   "metadata": {},
   "source": [
    "## [02] 문자열 뒤집기\n",
    "- input : 'hello'\n",
    "- output : 'olleh'"
   ]
  },
  {
   "cell_type": "markdown",
   "metadata": {},
   "source": [
    "##### [풀이01] 투 포인터를 이용한 스왑"
   ]
  },
  {
   "cell_type": "code",
   "execution_count": 87,
   "metadata": {},
   "outputs": [],
   "source": [
    "def reverseString(s : str):\n",
    "    \n",
    "    s = list(s)\n",
    "\n",
    "    left, right = 0, len(s) - 1\n",
    "    while left < right:\n",
    "        s[left], s[right] = s[right], s[left]\n",
    "        left += 1\n",
    "        right -= 1\n",
    "    return s"
   ]
  },
  {
   "cell_type": "markdown",
   "metadata": {},
   "source": [
    "##### [풀이02] 파이썬 다운 방식"
   ]
  },
  {
   "cell_type": "code",
   "execution_count": 89,
   "metadata": {},
   "outputs": [
    {
     "data": {
      "text/plain": [
       "['o', 'l', 'l', 'e', 'h']"
      ]
     },
     "execution_count": 89,
     "metadata": {},
     "output_type": "execute_result"
    }
   ],
   "source": [
    "def reverseString(s : str):\n",
    "    \n",
    "    s = list(s)\n",
    "    \n",
    "    s.reverse()\n",
    "    return s\n",
    "\n",
    "reverseString('hello')"
   ]
  },
  {
   "cell_type": "markdown",
   "metadata": {},
   "source": [
    "## [03] 로그 파일 재정렬\n",
    "\n",
    "- 로그 기준\n",
    "    - 1. 로그의 가장 앞 부분은 식별자\n",
    "    - 2. 문자로 구성된 로그가 숫자 로그보다 앞에 온다.\n",
    "    - 3. 식별자는 순서에 영향을 끼치지 않지만, 문자가 동일할 경우 __식별자__ 순으로 한다.\n",
    "    - 4. 숫자 로그는 입력 순서대로 한다.\n",
    "  "
   ]
  },
  {
   "cell_type": "code",
   "execution_count": 111,
   "metadata": {},
   "outputs": [],
   "source": [
    "#입력\n",
    "logs = ['dig1 8 1 5 1', 'let1 art can', 'dig2 3 6', 'let2 own kit dig', 'let3 art zero']\n",
    "\n",
    "#출력\n",
    "# [\"let1 art can\", \"let3 art zero\", \"let2 own kit dig\", \"dig1 8 1 5 1\", \"dig2 3 6\"]"
   ]
  },
  {
   "cell_type": "code",
   "execution_count": 131,
   "metadata": {},
   "outputs": [],
   "source": [
    "def reorderLogFiles(logs):\n",
    "    letters, digits = [], []\n",
    "    \n",
    "    for log in logs:\n",
    "\n",
    "        if log.split()[1].isdigit():\n",
    "            digits.append(log)\n",
    "        else:\n",
    "            letters.append(log)\n",
    "        # 2 개의 키를 람다 표현식으로 정렬\n",
    "    \n",
    "    \n",
    "    # 정렬기준 우선순위1번은 처음등장하는 식별자 (여기서는 art가 됨)\n",
    "    # 식별자 동일한 경우 , 다음에 등장하는것을 기준으로 sort\n",
    "    letters.sort(key = lambda x : (x.split()[1:], x.split()[0]))\n",
    "    \n",
    "    return letters + digits"
   ]
  },
  {
   "cell_type": "code",
   "execution_count": 132,
   "metadata": {},
   "outputs": [
    {
     "data": {
      "text/plain": [
       "['let1 art can',\n",
       " 'let3 art zero',\n",
       " 'let2 own kit dig',\n",
       " 'dig1 8 1 5 1',\n",
       " 'dig2 3 6']"
      ]
     },
     "execution_count": 132,
     "metadata": {},
     "output_type": "execute_result"
    }
   ],
   "source": [
    "reorderLogFiles(logs)"
   ]
  },
  {
   "cell_type": "markdown",
   "metadata": {},
   "source": [
    "## [04] 가장 흔한 단어\n",
    "\n",
    "- 조건 사항\n",
    "    - 금지된 단어를 제외한 가장 흔하게 등장하는 단어를 출력\n",
    "    - 대소문자 구분을 하지 않으며, 구두점 또한 무시한다.\n",
    "예시\n",
    "    - input\n",
    "        - paragraph = \"Bob hit a ball, the hit BALL flew far after it was hit.\"\n",
    "        - banned = [\"hit\"]\n",
    "    - output\n",
    "        - \"ball\""
   ]
  },
  {
   "cell_type": "code",
   "execution_count": 133,
   "metadata": {},
   "outputs": [],
   "source": [
    "paragraph = \"Bob hit a ball, the hit BALL flew far after it was hit.\"\n",
    "banned = [\"hit\"]"
   ]
  },
  {
   "cell_type": "code",
   "execution_count": 170,
   "metadata": {},
   "outputs": [],
   "source": [
    "def mostCommonWord(paragraph, banned):\n",
    "    import re\n",
    "    import collections\n",
    "    \n",
    "    wordList = re.sub('[^a-zA-Z0-9가-힣 ]', '', paragraph).lower().split() # 특수문자 제거\n",
    "        \n",
    "    wordList = [word for word in wordList if word not in banned]\n",
    "    \n",
    "    return collections.Counter(wordList).most_common(1)[0][0]"
   ]
  },
  {
   "cell_type": "code",
   "execution_count": 171,
   "metadata": {},
   "outputs": [
    {
     "data": {
      "text/plain": [
       "'ball'"
      ]
     },
     "execution_count": 171,
     "metadata": {},
     "output_type": "execute_result"
    }
   ],
   "source": [
    "mostCommonWord(paragraph, banned)"
   ]
  },
  {
   "cell_type": "markdown",
   "metadata": {},
   "source": [
    "## [05] 그룹 애너그램\n",
    "- 문자열 배열을 받아 애너그램 단위로 그룹핑 하라\n",
    "- __sorted__함수, __collections.defaultdict__ 매우 중요\n",
    "\n",
    "    - sorted함수는 팀소트 방식으로 , 퀵정렬, 병합정렬보다 복잡도 측면에서 우월함\n",
    "    - 팀소트는 '실제로 데이터는 대부분 이미 정렬되어 있을 것이다' 라는 가정하에 설계한 알고리즘\n",
    "    - 개별적인 단일 알고리즘이 아닌, 삽입 정렬과 병합 정렬을 휴리스틱하게 적절히 조합해 사용하는 정렬알고리즘"
   ]
  },
  {
   "cell_type": "code",
   "execution_count": 223,
   "metadata": {},
   "outputs": [],
   "source": [
    "wordList = [\"eat\", \"tea\", \"tan\", \"ate\", \"nat\", \"bat\"]\n",
    "#[eat, tea, ate] 는 하나의 리스트로 묶여야함\n",
    "\n",
    "def groupAnagrams(textList):\n",
    "        \n",
    "    anagrams = collections.defaultdict(list)\n",
    "    \n",
    "    for word in wordList:\n",
    "        anagrams[''.join(sorted(word))].append(word)\n",
    "\n",
    "    return list(anagrams.values())"
   ]
  },
  {
   "cell_type": "code",
   "execution_count": 228,
   "metadata": {},
   "outputs": [
    {
     "data": {
      "text/plain": [
       "[['eat', 'tea', 'ate'], ['tan', 'nat'], ['bat']]"
      ]
     },
     "execution_count": 228,
     "metadata": {},
     "output_type": "execute_result"
    }
   ],
   "source": [
    "groupAnagrams(wordList)"
   ]
  },
  {
   "cell_type": "markdown",
   "metadata": {},
   "source": [
    "## <font color = 'red'>[06] 가장 긴 팰린드롬 부분 문자열  </font>\n",
    "- 위의 01에서 , 팰린드롬 중 가장 긴 팰린드롬을 출력\n",
    "- 예시\n",
    "    - input\n",
    "        - \"babad\"\n",
    "    - output\n",
    "        - \"bab\" 또는 \"aba\"\n",
    "        \n",
    "- 구현실패함 => 책 참고\n",
    "    - 포인터 슬라이딩 윈도우 방식으로, 20장에서 더 구체적으로 다룰 예정"
   ]
  },
  {
   "cell_type": "code",
   "execution_count": 66,
   "metadata": {},
   "outputs": [],
   "source": [
    "s = \"cabad\"\n",
    "\n",
    "def longestPalindrome(s : str) -> str:\n",
    "    \n",
    "    if (len(s) < 2) or (s == s[::-1]): #예외처리\n",
    "        return s\n",
    "    \n",
    "    #팰린드롬 판별 및 투 포인터 확장\n",
    "    def expand(left: int, right: int) -> str:\n",
    "        while left >= 0 and right < len(s) and s[left] == s[right]:\n",
    "            left -= 1\n",
    "            right += 1\n",
    "        return s[left+1 : right]\n",
    "    \n",
    "    result = ''\n",
    "    \n",
    "    #슬라이딩 윈도우 우측으로 이동\n",
    "    for i in range(len(s) - 1):\n",
    "        result = max(result, \n",
    "                     expand(i, i+1),\n",
    "                     expand(i, i+2),\n",
    "                     key = len)\n",
    "    return result"
   ]
  },
  {
   "cell_type": "code",
   "execution_count": 67,
   "metadata": {},
   "outputs": [
    {
     "data": {
      "text/plain": [
       "'aba'"
      ]
     },
     "execution_count": 67,
     "metadata": {},
     "output_type": "execute_result"
    }
   ],
   "source": [
    "longestPalindrome(s)"
   ]
  }
 ],
 "metadata": {
  "kernelspec": {
   "display_name": "Python 3",
   "language": "python",
   "name": "python3"
  },
  "language_info": {
   "codemirror_mode": {
    "name": "ipython",
    "version": 3
   },
   "file_extension": ".py",
   "mimetype": "text/x-python",
   "name": "python",
   "nbconvert_exporter": "python",
   "pygments_lexer": "ipython3",
   "version": "3.8.5"
  }
 },
 "nbformat": 4,
 "nbformat_minor": 4
}
