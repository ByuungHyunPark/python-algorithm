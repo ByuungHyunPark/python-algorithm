{
 "cells": [
  {
   "cell_type": "markdown",
   "metadata": {},
   "source": [
    "# 1. 리스트\n",
    "- 파이썬의 list는 말 그대로 순서대로 저장하는 시퀀스이자, 변경 가능한 목록을 말한다.\n",
    "- 입력 순서가 유지되며, 내부적으로는 동적 배열로 구현됨\n",
    "\n",
    "\n",
    "|연산|시간 복잡도|설명|\n",
    "|:--|--|:--|\n",
    "|len(a)|O(1)|전체 요소의 개수를 return|\n",
    "|a[i:j]|O(k)|i부터 j까지 슬라이스의 길이만큼 k개의 요소를 가져옴|\n",
    "|elem in a|O(n)|elem 요소가 존재하는지 확인. 처음부터 순차 탐색하므로 n만큼 시간|\n",
    "|a.count(elem)|O(n)|elem 요소의 개수를 리턴한다.|\n",
    "|a.index(elem)|O(n)|elem 요소의 인덱스를 리턴한다.|\n",
    "|a.append(elem|O(1)|리스트 마지막에 elem요소 추가|\n",
    "|a.pop()|O(1)|리스트 마지막 요소를 추출. 스택의 연산|\n",
    "|a.pop(0)|O(n)|리스트 첫번째 요소를 추춘한다. Queue의 연산. 이 경우 전체 복사가 필요하므로 O(n)인데, 리스트보다는 O(1)에 가까운 deque를 권장|\n",
    "|del a[i]|O(n)|i에 따라 다르며, 최악의 경우 O(n)|\n",
    "|a.sort()|O(n log n)|Timsort를 사용하며, 최선의경우는 O(n), 6장에서 다룰예정|\n",
    "|min(a), max(a)|O(n)|최소/최대값 계산하기 위해서는 전체의 선형탐색|\n",
    "|a.reserve()|O(n)|뒤집는 과정으로, 입력순서 반대가 됨|\n",
    "\n",
    "##### | 리스트의 활용 방법\n",
    "- 생략 . . .\n",
    "\n",
    "___\n",
    "# 2. 딕셔너리\n",
    "- 키/값 구조로 이뤄진 딕셔너리\n",
    "- python 3.7+ 에서는, 입력 순서가 유지되며, 내부적으로는 Hash Table로 구현됨\n",
    "- python dictionary는 해시할 수만 있다면 숫자뿐 아닌 문자, 집합까지 불변 객체를 모두 key값으로 사용 가능\n",
    "- 해시 테이블은 입력과 조회 모두 O(1)에 가능, but 최악의경우는 O(n)\n",
    "- 분할 상관 분석에 따른 시간 복잡도는 O(1)이다.\n",
    "\n",
    "|연산|시간복잡도|설명|\n",
    "|:--|--|:--|\n",
    "|len(a)|O(1)|요소의 개수를 return|\n",
    "|a[key]|O(1)|키를 조회하여 값을 return|\n",
    "|a[key] = value|O(1)|키/값을 삽입한다.|\n",
    "|key in a|O(1)|딕셔너리에 키가 존재하는지 확인한다.|\n",
    "- python 3.6- version 입력순서가 유지되지 않아 , collections.OrderDict()라는 별도 자료형 제공\n",
    "- but, 3.7+ 내부적으로 인덱스를 이용해 순서를 유지하도록 개선\n",
    "\n",
    "\n",
    "##### | 딕셔너리 활용 방법"
   ]
  },
  {
   "cell_type": "code",
   "execution_count": 17,
   "metadata": {},
   "outputs": [
    {
     "data": {
      "text/plain": [
       "'value3'"
      ]
     },
     "execution_count": 17,
     "metadata": {},
     "output_type": "execute_result"
    }
   ],
   "source": [
    "a = {'key1':'value1', 'key2':'value', 'key3':'value3'}\n",
    "a['key3']"
   ]
  },
  {
   "cell_type": "markdown",
   "metadata": {},
   "source": [
    "키가 존재하지 않을 경우"
   ]
  },
  {
   "cell_type": "code",
   "execution_count": null,
   "metadata": {},
   "outputs": [],
   "source": [
    "#방법1\n",
    "try:\n",
    "    print(a['key4'])\n",
    "except KeyError:\n",
    "    print('존재하지 않는 키')\n",
    "\n",
    "    \n",
    "#방법2\n",
    "if 'key' in a:\n",
    "    print('존재하는 키')\n",
    "else:\n",
    "    print('존재하지 않는 키')"
   ]
  },
  {
   "cell_type": "markdown",
   "metadata": {},
   "source": [
    "##### |딕셔너리 모듈\n",
    "- 1. defaultdict : 존재하지 않는 키를 조회할 경우, 여러 메시지를 출력하는 대신 디폴트 값을 기준으로 해당 키에 대한 딕셔너리 아이템을 생성해준다. \n",
    "- 2. Counter\n",
    "- 3. OrderedDict"
   ]
  },
  {
   "cell_type": "markdown",
   "metadata": {},
   "source": [
    "##### | collections.deafultdict"
   ]
  },
  {
   "cell_type": "code",
   "execution_count": 23,
   "metadata": {},
   "outputs": [
    {
     "data": {
      "text/plain": [
       "defaultdict(int, {'A': 5, 'B': 4})"
      ]
     },
     "execution_count": 23,
     "metadata": {},
     "output_type": "execute_result"
    }
   ],
   "source": [
    "a = collections.defaultdict(int)\n",
    "a['A'] = 5\n",
    "a['B'] = 4\n",
    "a"
   ]
  },
  {
   "cell_type": "code",
   "execution_count": 24,
   "metadata": {},
   "outputs": [
    {
     "data": {
      "text/plain": [
       "defaultdict(int, {'A': 5, 'B': 4, 'C': 1})"
      ]
     },
     "execution_count": 24,
     "metadata": {},
     "output_type": "execute_result"
    }
   ],
   "source": [
    "# C가 존재하지 않아서 에러가 발생해야 하지만, defaultdict를 설정했으므로\n",
    "# default값인 0을 기준으로 자동으로 생성 후 , 여기에 1을 더함\n",
    "a['C'] += 1\n",
    "a"
   ]
  },
  {
   "cell_type": "markdown",
   "metadata": {},
   "source": [
    "##### | collections.Counter"
   ]
  },
  {
   "cell_type": "code",
   "execution_count": 26,
   "metadata": {},
   "outputs": [
    {
     "data": {
      "text/plain": [
       "Counter({1: 2, 2: 2, 3: 2, 4: 1, 5: 3, 6: 1})"
      ]
     },
     "execution_count": 26,
     "metadata": {},
     "output_type": "execute_result"
    }
   ],
   "source": [
    "a = [1,2,3,4,3,2,1,5,5,5,6]\n",
    "b = collections.Counter(a)\n",
    "b"
   ]
  },
  {
   "cell_type": "code",
   "execution_count": 27,
   "metadata": {},
   "outputs": [
    {
     "data": {
      "text/plain": [
       "[(5, 3), (1, 2)]"
      ]
     },
     "execution_count": 27,
     "metadata": {},
     "output_type": "execute_result"
    }
   ],
   "source": [
    "# 가장 빈도가 높은 2개의 요소 추출\n",
    "b.most_common(2)"
   ]
  },
  {
   "cell_type": "markdown",
   "metadata": {},
   "source": [
    "##### | collections.OrderDict\n",
    "- python 3.7 version 이상에서는 의미 없음"
   ]
  },
  {
   "cell_type": "code",
   "execution_count": 29,
   "metadata": {},
   "outputs": [
    {
     "data": {
      "text/plain": [
       "OrderedDict([('banana', 3), ('apple', 4), ('pear', 1), ('orange', 2)])"
      ]
     },
     "execution_count": 29,
     "metadata": {},
     "output_type": "execute_result"
    }
   ],
   "source": [
    "collections.OrderedDict({'banana' : 3, 'apple' : 4, 'pear' : 1, 'orange' : 2})"
   ]
  }
 ],
 "metadata": {
  "kernelspec": {
   "display_name": "Python 3",
   "language": "python",
   "name": "python3"
  },
  "language_info": {
   "codemirror_mode": {
    "name": "ipython",
    "version": 3
   },
   "file_extension": ".py",
   "mimetype": "text/x-python",
   "name": "python",
   "nbconvert_exporter": "python",
   "pygments_lexer": "ipython3",
   "version": "3.8.5"
  }
 },
 "nbformat": 4,
 "nbformat_minor": 4
}
