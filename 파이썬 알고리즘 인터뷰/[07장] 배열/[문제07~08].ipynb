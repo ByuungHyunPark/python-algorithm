{
 "cells": [
  {
   "cell_type": "markdown",
   "metadata": {},
   "source": [
    "##### [3부] 선형 자료구조\n",
    "- 7장 배열\n",
    "- 8장 연결 리스트\n",
    "- 9장 스택, 큐\n",
    "- 10장 데크, 우선순위 큐\n",
    "- 11장 해시 테이블"
   ]
  },
  {
   "cell_type": "markdown",
   "metadata": {},
   "source": [
    "## [07] 두 수의 합\n",
    "- 덧셈하여 타겟을 만들 수 있는 배열의 두 숫자 인덱스를 리턴하라.\n",
    "    - 예시\n",
    "        - input\n",
    "            - nums = [2, 7, 11, 15], target = 9\n",
    "        - output\n",
    "            - [0, 1]"
   ]
  },
  {
   "cell_type": "markdown",
   "metadata": {},
   "source": [
    "나의 풀이 (책풀이 [1] 브루트 포스로 계산 방식과 동일)\n",
    "- 시간복잡도가 $O(n^2)$로 좋은 편은 아님 (5,284밀리초)"
   ]
  },
  {
   "cell_type": "code",
   "execution_count": 18,
   "metadata": {},
   "outputs": [
    {
     "name": "stdout",
     "output_type": "stream",
     "text": [
      "Wall time: 0 ns\n"
     ]
    },
    {
     "data": {
      "text/plain": [
       "[0, 2]"
      ]
     },
     "execution_count": 18,
     "metadata": {},
     "output_type": "execute_result"
    }
   ],
   "source": [
    "%%time\n",
    "nums = [2, 7, 11, 15]\n",
    "target = 13\n",
    "\n",
    "\n",
    "def twoSum(nums, target: int):\n",
    "    \n",
    "    for leftIndex, number in enumerate(nums):\n",
    "        for rightIndex in range(leftIndex, len(nums)):\n",
    "            \n",
    "            if nums[leftIndex] + nums[rightIndex] == target:\n",
    "                return[leftIndex, rightIndex]\n",
    "            \n",
    "twoSum(nums, target)"
   ]
  },
  {
   "cell_type": "markdown",
   "metadata": {},
   "source": [
    "[풀이2] in을 이용한 탐색 (864밀리초)"
   ]
  },
  {
   "cell_type": "code",
   "execution_count": 17,
   "metadata": {},
   "outputs": [
    {
     "name": "stdout",
     "output_type": "stream",
     "text": [
      "Wall time: 0 ns\n"
     ]
    },
    {
     "data": {
      "text/plain": [
       "[0, 2]"
      ]
     },
     "execution_count": 17,
     "metadata": {},
     "output_type": "execute_result"
    }
   ],
   "source": [
    "%%time\n",
    "def twoSum(nums, target: int):\n",
    "    \n",
    "    for index, num in enumerate(nums):\n",
    "        if target - num in nums:  #탐색과정에서 최악의경우 O(n)\n",
    "            return[index, nums.index(target-num)]\n",
    "    \n",
    "twoSum(nums, target)"
   ]
  },
  {
   "cell_type": "markdown",
   "metadata": {},
   "source": [
    "[풀이3] 첫번째 수를 뺀 결과 키 조회\n",
    "- 속도적인 측면에서 압도적으로 빠른 결과를 나타냄 (48밀리초)"
   ]
  },
  {
   "cell_type": "code",
   "execution_count": 16,
   "metadata": {},
   "outputs": [
    {
     "name": "stdout",
     "output_type": "stream",
     "text": [
      "Wall time: 0 ns\n"
     ]
    },
    {
     "data": {
      "text/plain": [
       "[0, 2]"
      ]
     },
     "execution_count": 16,
     "metadata": {},
     "output_type": "execute_result"
    }
   ],
   "source": [
    "%%time\n",
    "def twoSum(nums, target: int):\n",
    "    nums_map = {}\n",
    "    # 키와 값을 바꿔서 딕셔너리로 저장\n",
    "    \n",
    "    for i, num in enumerate(nums):\n",
    "        nums_map[num] = i\n",
    "        \n",
    "    # 타겟에서 첫 번째 수를 뺀 결과를 키로 조회\n",
    "    for i, num in enumerate(nums):\n",
    "        if target - num in nums_map and i != nums_map[target - num]:\n",
    "            return [i, nums_map[target - num]]\n",
    "        \n",
    "twoSum(nums, target)"
   ]
  },
  {
   "cell_type": "markdown",
   "metadata": {},
   "source": [
    "[풀이4] 조회 구조 개선\n",
    "- 그냥 위랑 같은듯하지만 속도적인측면에서 위에보다 조금 빠름"
   ]
  },
  {
   "cell_type": "code",
   "execution_count": 19,
   "metadata": {},
   "outputs": [
    {
     "data": {
      "text/plain": [
       "[0, 2]"
      ]
     },
     "execution_count": 19,
     "metadata": {},
     "output_type": "execute_result"
    }
   ],
   "source": [
    "def twoSum(nums, target: int):\n",
    "    nums_map = {}\n",
    "    \n",
    "    for i, num in enumerate(nums):\n",
    "        if target - num in nums_map:\n",
    "            return [nums_map[target - num], i]\n",
    "        nums_map[num] = i\n",
    "        \n",
    "twoSum(nums, target)"
   ]
  },
  {
   "cell_type": "markdown",
   "metadata": {},
   "source": [
    "## [08]빗물 트래핑\n",
    "https://leetcode.com/problems/trapping-rain-water/<br>\n",
    "높이를 입력받아 비 온 후 얼마나 많은 물이 쌓일 수 있는지를 계산하라.\n",
    "- 예시\n",
    "    - input\n",
    "        - [0,1,0,2,1,0,1,3,2,1,2,1]\n",
    "    - output\n",
    "        - 6\n",
    "        \n",
    "혼자 풀어봤을때는 해결못함.. => $O(n^2)$을 최대한 생각하지 않고 하였고 , 투 포인터 접근으로 하였으나 잘 구현되지않음"
   ]
  },
  {
   "cell_type": "markdown",
   "metadata": {},
   "source": [
    "##### [풀이01] 투 포인터를 최대로 이동\n",
    "- __최대 높이의 막대까지 각각 좌우 기둥 최대 높이 left_max, right_max가 현재 높이와의 차이만큼 물 높이 volume을 더해나감__\n",
    "- 참고링크 : https://www.youtube.com/watch?v=86W0kLc2tc4"
   ]
  },
  {
   "cell_type": "code",
   "execution_count": 36,
   "metadata": {},
   "outputs": [],
   "source": [
    "height = [0,1,0,2,1,0,1,3,2,1,2,1]\n",
    "\n",
    "def trap(height) -> int:\n",
    "    \n",
    "    n = len(height)\n",
    "    if n == 0:\n",
    "        return 0\n",
    "    \n",
    "    lmax = [0] * n\n",
    "    rmax = [0] * n\n",
    "\n",
    "    lmax[0] = height[0]\n",
    "    rmax[n-1] = height[n-1]\n",
    "    \n",
    "    for i in range(1, n):\n",
    "        lmax[i] = max(lmax[i-1], height[i])  #현재값과 왼쪽값 비교\n",
    "    for i in range(n-2, -1, -1):\n",
    "        rmax[i] = max(rmax[i+1], height[i])\n",
    "    \n",
    "    print('lmax : ', lmax)\n",
    "    print('rmax : ', rmax)\n",
    "    \n",
    "    ans = 0\n",
    "    for i in range(n):\n",
    "        ans += min(lmax[i], rmax[i]) - height[i]\n",
    "    return ans"
   ]
  },
  {
   "cell_type": "code",
   "execution_count": 37,
   "metadata": {},
   "outputs": [
    {
     "name": "stdout",
     "output_type": "stream",
     "text": [
      "lmax :  [0, 1, 1, 2, 2, 2, 2, 3, 3, 3, 3, 3]\n",
      "rmax :  [3, 3, 3, 3, 3, 3, 3, 3, 2, 2, 2, 1]\n"
     ]
    },
    {
     "data": {
      "text/plain": [
       "6"
      ]
     },
     "execution_count": 37,
     "metadata": {},
     "output_type": "execute_result"
    }
   ],
   "source": [
    "trap(height)"
   ]
  },
  {
   "cell_type": "markdown",
   "metadata": {},
   "source": [
    "##### [풀이02] 스택 쌓기\n",
    "- 꺾이는 부분 변곡점을 기준으로 , 격차만큼 물 높이 volumn을 채운다.\n",
    "-이전 높이는 고정된 형태가 아니라 들쑥날쑥하기 때문에, 계속 스택으로 채워나가다 변곡점을 만날 때마다 스택에서 하나씩 꺼내면서 이전과의 차이만큼 물높이를 채워간다."
   ]
  },
  {
   "cell_type": "code",
   "execution_count": 53,
   "metadata": {},
   "outputs": [],
   "source": [
    "def trap(height)->int:\n",
    "    stack = []\n",
    "    volume = 0\n",
    "    \n",
    "    for i in range(len(height)):\n",
    "        # 변곡점을 만나는 경우\n",
    "        while stack and height[i] > height[stack[-1]]:\n",
    "            #스택에서 꺼낸다\n",
    "            top = stack.pop()\n",
    "            \n",
    "            if not len(stack):\n",
    "                break\n",
    "                \n",
    "            # 이전과의 차이만큼 물 높이 처리\n",
    "            distance = i - stack[-1] - 1\n",
    "            waters = min(height[i], height[stack[-1]]) - height[top]\n",
    "            volume += distance * waters\n",
    "            \n",
    "        stack.append(i)\n",
    "        print(i, ' stack : ', stack)\n",
    "        \n",
    "    return volume"
   ]
  },
  {
   "cell_type": "code",
   "execution_count": 54,
   "metadata": {},
   "outputs": [
    {
     "name": "stdout",
     "output_type": "stream",
     "text": [
      "0  stack :  [0]\n",
      "1  stack :  [1]\n",
      "2  stack :  [1, 2]\n",
      "3  stack :  [3]\n",
      "4  stack :  [3, 4]\n",
      "5  stack :  [3, 4, 5]\n",
      "6  stack :  [3, 4, 6]\n",
      "7  stack :  [7]\n",
      "8  stack :  [7, 8]\n",
      "9  stack :  [7, 8, 9]\n",
      "10  stack :  [7, 8, 10]\n",
      "11  stack :  [7, 8, 10, 11]\n"
     ]
    },
    {
     "data": {
      "text/plain": [
       "6"
      ]
     },
     "execution_count": 54,
     "metadata": {},
     "output_type": "execute_result"
    }
   ],
   "source": [
    "trap(height)"
   ]
  }
 ],
 "metadata": {
  "kernelspec": {
   "display_name": "Python 3",
   "language": "python",
   "name": "python3"
  },
  "language_info": {
   "codemirror_mode": {
    "name": "ipython",
    "version": 3
   },
   "file_extension": ".py",
   "mimetype": "text/x-python",
   "name": "python",
   "nbconvert_exporter": "python",
   "pygments_lexer": "ipython3",
   "version": "3.8.5"
  }
 },
 "nbformat": 4,
 "nbformat_minor": 4
}
