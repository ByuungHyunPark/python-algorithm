{
 "cells": [
  {
   "cell_type": "markdown",
   "metadata": {},
   "source": [
    "- 배열을 입력받아 합으로 0을 만들 수 있는 3개의 엘리먼트를 출력하라.\n",
    "- 예시\n",
    "    - input\n",
    "        - nums = [-1, 0, 1, 2, -1, -4]\n",
    "    - output\n",
    "        - [[-1, 0, 1], [-1, -1, 2]]"
   ]
  },
  {
   "cell_type": "markdown",
   "metadata": {},
   "source": [
    "##### 나의 풀이 == 책 풀이[01] 브루트포스로 계산\n",
    "- $O(n^3)$ 으로 , 타임아웃 될 방법임\n",
    "- 나의 풀이또한 거의 $O(n^3)$에 가까울듯함, 매우좋지않은 풀이지만 , 좋은방법 생각나지 않음\n",
    "- 정렬로 최대한 속도를 바르게 해주자"
   ]
  },
  {
   "cell_type": "code",
   "execution_count": 111,
   "metadata": {},
   "outputs": [],
   "source": [
    "def threeSum(nums):\n",
    "        \n",
    "    nums.sort()\n",
    "    ansList = []\n",
    "    \n",
    "    for iindex, i in enumerate(nums):\n",
    "        \n",
    "        if i > 0:\n",
    "            break\n",
    "        \n",
    "        if iindex>0 and nums[index] == nums[index-1]:\n",
    "            continue\n",
    "            \n",
    "        notFirstIndex = nums[:iindex] + nums[iindex+1:]\n",
    "        \n",
    "        for jindex, j in enumerate(notFirstIndex):\n",
    "            notSecIndex = notFirstIndex[:jindex] + notFirstIndex[jindex+1:]\n",
    "            \n",
    "            if jindex > 0 and notFirstIndex[jindex] == notFirstIndex[jindex-1]:\n",
    "                continue\n",
    "            \n",
    "            for k in notSecIndex:\n",
    "                ans = sorted([nums[iindex] , notFirstIndex[jindex] , k])\n",
    "                                \n",
    "                if (sum(ans)==0) and (ans not in ansList):\n",
    "                    ansList.append(ans)\n",
    "                    \n",
    "    return ansList\n",
    "\n",
    "threeSum(nums)"
   ]
  },
  {
   "cell_type": "markdown",
   "metadata": {},
   "source": [
    "##### [풀이02] 투 포인터 합 계산\n",
    "\n",
    "두개의 포인터가 간격을 좁혀나가며 합 sum을 구하는 방법으로 진행"
   ]
  },
  {
   "cell_type": "code",
   "execution_count": null,
   "metadata": {},
   "outputs": [],
   "source": [
    "#수도코드\n",
    "left, right = i + 1, len(nums) - 1\n",
    "while left < right:\n",
    "    sum = nums[i] + nums[left] + nums[right]"
   ]
  },
  {
   "cell_type": "markdown",
   "metadata": {},
   "source": [
    "sum이 0보다 작다면 값을 더 키워야 하므로, left를 우측으로 이동하고, 0보다 크다면 값을 더 작게 하기 위해 right를 좌측으로 이동한다. "
   ]
  },
  {
   "attachments": {
    "image.png": {
     "image/png": "[encoded data removed]"
    }
   },
   "cell_type": "markdown",
   "metadata": {},
   "source": [
    "![image.png](attachment:image.png)"
   ]
  },
  {
   "cell_type": "code",
   "execution_count": null,
   "metadata": {},
   "outputs": [],
   "source": [
    "#수도코드 및 설명\n",
    "\n",
    "if sum < 0:\n",
    "    left += 1\n",
    "elif sum > 0:\n",
    "    right -= 1\n",
    "\n",
    "#sum이 0보다 작다면 값을 더 키워야 하므로 left를 우측으로 이동하고 , 0보다 크다면 값을 더 작게 하기 위해 right를 좌측으로 이동한다.\n",
    "\n",
    "if sum < 0:\n",
    "    ...\n",
    "elif sum > 0:\n",
    "    ...\n",
    "else:\n",
    "    results.append((nums[i], nums[left], nums[right]))\n",
    "    \n",
    "    while left < right and nums[left] == nums[left + 1]:\n",
    "        left += 1\n",
    "    while left < right and nums[right] == nums[right - 1]:\n",
    "        right -= 1\n",
    "\n",
    "#sum = 0이면 정답이므로, 이 경우 결과를 리스트 변수 results에 추가한다\n",
    "#추가한 다음에는 left, right 양 옆으로 동일한 값이 있을 수 있으므로 이를 left += 1, right -= 1을 반복해서 스킵하도록 처리한다.\n",
    "\n",
    "left += 1 \n",
    "right -= 1\n",
    "\n",
    "# 얼핏 생각해보면 left 또는 right 둘 중 하나만 이동해야 하는게 아닌가 싶지만, 어차피 sum = 0인 상황이므로 어느 한족만 이동하는 경우는 불가능\n",
    "# 나머지 값을 찾으려면 결국 둘 다 모두 움직여야한다."
   ]
  },
  {
   "cell_type": "code",
   "execution_count": 115,
   "metadata": {},
   "outputs": [
    {
     "data": {
      "text/plain": [
       "[(-1, -1, 2), (-1, 0, 1)]"
      ]
     },
     "execution_count": 115,
     "metadata": {},
     "output_type": "execute_result"
    }
   ],
   "source": [
    "def threeSum(nums):\n",
    "    results = []\n",
    "    nums.sort()\n",
    "    \n",
    "    for i in range(len(nums) - 2):\n",
    "        # 중복된 값 건너뛰기\n",
    "        if i > 0 and nums[i] == nums[i-1]:\n",
    "            continue\n",
    "            \n",
    "        #간격을 좁혀가며 합 sum 계산\n",
    "        left, right = i + 1, len(nums) - 1\n",
    "        while left < right:\n",
    "            sum = nums[i] + nums[left] + nums[right]\n",
    "            if sum < 0:\n",
    "                left += 1\n",
    "            elif sum > 0:\n",
    "                right -= 1\n",
    "            else:\n",
    "                # sum = 0인 경우이므로 정답 및 스킵 처리\n",
    "                results.append((nums[i], nums[left], nums[right]))\n",
    "                \n",
    "                while left < right and nums[left] == nums[left + 1]:\n",
    "                    left += 1\n",
    "                while left < right and nums[right] == nums[right - 1]:\n",
    "                    right -= 1\n",
    "                \n",
    "                left += 1\n",
    "                right -= 1\n",
    "                \n",
    "    return results\n",
    "\n",
    "threeSum(nums)"
   ]
  },
  {
   "cell_type": "markdown",
   "metadata": {},
   "source": [
    "- 투포인터 보면 이해는 하겠지만, 아직은 너무 어렵게만 느껴짐\n",
    "- 속도 차이가 비교가 안될정도로 크게 차이가 날 것 같음"
   ]
  },
  {
   "cell_type": "code",
   "execution_count": null,
   "metadata": {},
   "outputs": [],
   "source": []
  }
 ],
 "metadata": {
  "kernelspec": {
   "display_name": "Python 3",
   "language": "python",
   "name": "python3"
  },
  "language_info": {
   "codemirror_mode": {
    "name": "ipython",
    "version": 3
   },
   "file_extension": ".py",
   "mimetype": "text/x-python",
   "name": "python",
   "nbconvert_exporter": "python",
   "pygments_lexer": "ipython3",
   "version": "3.8.5"
  }
 },
 "nbformat": 4,
 "nbformat_minor": 4
}
