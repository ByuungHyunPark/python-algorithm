{
 "cells": [
  {
   "cell_type": "markdown",
   "metadata": {},
   "source": [
    "- 한번의 거래로 낼 수 있는 최대 이익을 산출하라.\n",
    "- ex) input : [7, 1, 5, 3, 6, 4]\n",
    "- output : 5\n",
    "- 설명\n",
    "    - 1일때 사서 6일때 팔면 5의 이익을 얻는다."
   ]
  },
  {
   "cell_type": "markdown",
   "metadata": {},
   "source": [
    "##### 나의 풀이 - 책고"
   ]
  },
  {
   "cell_type": "code",
   "execution_count": 15,
   "metadata": {},
   "outputs": [
    {
     "data": {
      "text/plain": [
       "5"
      ]
     },
     "execution_count": 15,
     "metadata": {},
     "output_type": "execute_result"
    }
   ],
   "source": [
    "prices = [7, 1, 5, 3, 6, 4]\n",
    "\n",
    "\n",
    "\n",
    "\n",
    "def maxProfit(prices):\n",
    "   \n",
    "    accumList = [] #시계열적인 순서로 , 값이 들어온다고 생각하자\n",
    "    sellList = [] #매도각 나온 List\n",
    "    \n",
    "    for i in prices:\n",
    "        \n",
    "        if min(accumList + [i]) == i:  # 최근에 들어온 가격이 가장 작다는 상황 (매수타점), \n",
    "            accumList.append(i)\n",
    "            buy = i #매수가격\n",
    "            Flag = False  # 매수를 했다면 Flag = False로 설정하여,  위의 조건문이 안돌도록 설정/ 이미 매수한건 팔기만 하면 됨\n",
    "            continue\n",
    "            \n",
    "        if max(sellList + [i]) == i:\n",
    "            sellList.append(i)\n",
    "    \n",
    "\n",
    "    return max(sellList) - buy\n",
    "\n",
    "maxProfit(prices)"
   ]
  },
  {
   "cell_type": "code",
   "execution_count": 4,
   "metadata": {},
   "outputs": [
    {
     "data": {
      "text/plain": [
       "0.1"
      ]
     },
     "execution_count": 4,
     "metadata": {},
     "output_type": "execute_result"
    }
   ],
   "source": [
    "prices = [7, 1, 5, 3, 6, 4]\n",
    "\n",
    "\n"
   ]
  },
  {
   "cell_type": "code",
   "execution_count": null,
   "metadata": {},
   "outputs": [],
   "source": []
  }
 ],
 "metadata": {
  "kernelspec": {
   "display_name": "Python 3",
   "language": "python",
   "name": "python3"
  },
  "language_info": {
   "codemirror_mode": {
    "name": "ipython",
    "version": 3
   },
   "file_extension": ".py",
   "mimetype": "text/x-python",
   "name": "python",
   "nbconvert_exporter": "python",
   "pygments_lexer": "ipython3",
   "version": "3.8.5"
  }
 },
 "nbformat": 4,
 "nbformat_minor": 4
}
