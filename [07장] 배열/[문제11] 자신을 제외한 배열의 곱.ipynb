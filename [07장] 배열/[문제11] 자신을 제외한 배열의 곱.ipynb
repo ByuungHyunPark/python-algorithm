{
 "cells": [
  {
   "cell_type": "markdown",
   "metadata": {},
   "source": [
    "##### [문제11] 자신을 제외한 배열의 곱\n",
    "- 배열을 입력받아 output[i]가 자신을 제외한 나머지 모든 요소의 곱셈 결과가 되도록 출력하라\n",
    "- ex) 입력 : [1,2,3,4]\n",
    "- 출력 : [24, 12 ,8 ,6]"
   ]
  },
  {
   "cell_type": "markdown",
   "metadata": {},
   "source": [
    "나의 풀이 : slicing 을 이용한 2중 For문 활용\n",
    "- 그러나 , 속도적인 측면에서 무조건 좋지않아서 다르게 생각해볼필요있음\n",
    "- 곱셈 과정에서 $O(n)$ 이 아닌, 더 효율적인 풀이가 생각이 안남. math함수 사용가능하다면 $O(n)$으로 해결했을듯 "
   ]
  },
  {
   "cell_type": "code",
   "execution_count": 6,
   "metadata": {},
   "outputs": [
    {
     "data": {
      "text/plain": [
       "[24, 12, 8, 6]"
      ]
     },
     "execution_count": 6,
     "metadata": {},
     "output_type": "execute_result"
    }
   ],
   "source": [
    "nums = [1, 2, 3, 4]\n",
    "\n",
    "\n",
    "def productExceptSelf(nums):\n",
    "    output = []\n",
    "    for index, i in enumerate(nums):\n",
    "        ans = 1\n",
    "        for j in nums[:index] + nums[index+1:]:\n",
    "            ans *= j\n",
    "        output.append(ans)\n",
    "    \n",
    "    return output\n",
    "    \n",
    "productExceptSelf(nums)"
   ]
  },
  {
   "cell_type": "code",
   "execution_count": 7,
   "metadata": {},
   "outputs": [
    {
     "data": {
      "text/plain": [
       "[24, 12, 8, 6]"
      ]
     },
     "execution_count": 7,
     "metadata": {},
     "output_type": "execute_result"
    }
   ],
   "source": [
    "# math 와 numpy 함수활용하면 되긴하는데,, 잘 모르겠음\n",
    "import math\n",
    "\n",
    "def productExceptSelf(nums):\n",
    "    output = []\n",
    "    \n",
    "    for i in range(len(nums)):\n",
    "        output.append(math.prod(nums[:i] + nums[i+1:]))\n",
    "    return output\n",
    "\n",
    "productExceptSelf(nums)"
   ]
  },
  {
   "cell_type": "markdown",
   "metadata": {},
   "source": [
    "##### O(n)으로 생각하며 풀어본 풀이, 정확히는 2O(n) 될듯"
   ]
  },
  {
   "cell_type": "code",
   "execution_count": 10,
   "metadata": {},
   "outputs": [
    {
     "data": {
      "text/plain": [
       "[24.0, 12.0, 8.0, 6.0]"
      ]
     },
     "execution_count": 10,
     "metadata": {},
     "output_type": "execute_result"
    }
   ],
   "source": [
    "def productExceptSelf(nums):\n",
    "    \n",
    "    totalMultiply = 1\n",
    "    \n",
    "    for i in nums:\n",
    "        totalMultiply *= i\n",
    "        \n",
    "    output = [totalMultiply] * len(nums)\n",
    "    \n",
    "    for index, i in enumerate(nums):\n",
    "        output[index] /= i\n",
    "    return output\n",
    "\n",
    "productExceptSelf(nums)"
   ]
  },
  {
   "cell_type": "markdown",
   "metadata": {},
   "source": [
    "##### 책 풀이 (1)\n",
    "- 왼쪽 곱셈 결과에 오른쪽 값을 차례대로 곱셈\n",
    "- __자기 자신을 제외하고 왼쪽의 곱셈결과와 오른쪽의 곱셀결과를 곱하면됨__"
   ]
  },
  {
   "cell_type": "code",
   "execution_count": 13,
   "metadata": {},
   "outputs": [
    {
     "data": {
      "text/plain": [
       "[24, 12, 8, 6]"
      ]
     },
     "execution_count": 13,
     "metadata": {},
     "output_type": "execute_result"
    }
   ],
   "source": [
    "def productExceptSelf(nums):\n",
    "    out = []\n",
    "    p = 1\n",
    "    \n",
    "    #왼쪽 곱셈\n",
    "    for i in range(0, len(nums)):\n",
    "        out.append(p)\n",
    "        p = p * nums[i]\n",
    "    p = 1\n",
    "    \n",
    "    # 왼쪽 곱셈 결과에 오른쪽 값을 차례대로 곱셈\n",
    "    for i in range(len(nums) - 1, 0 - 1, -1):\n",
    "        out[i] = out[i] * p\n",
    "        p = p * nums[i]\n",
    "    return out\n",
    "\n",
    "productExceptSelf(nums)"
   ]
  },
  {
   "cell_type": "code",
   "execution_count": null,
   "metadata": {},
   "outputs": [],
   "source": []
  }
 ],
 "metadata": {
  "kernelspec": {
   "display_name": "Python 3",
   "language": "python",
   "name": "python3"
  },
  "language_info": {
   "codemirror_mode": {
    "name": "ipython",
    "version": 3
   },
   "file_extension": ".py",
   "mimetype": "text/x-python",
   "name": "python",
   "nbconvert_exporter": "python",
   "pygments_lexer": "ipython3",
   "version": "3.8.5"
  }
 },
 "nbformat": 4,
 "nbformat_minor": 4
}
